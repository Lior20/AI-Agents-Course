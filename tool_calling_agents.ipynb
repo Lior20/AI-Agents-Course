{
  "cells": [
    {
      "cell_type": "markdown",
      "metadata": {
        "id": "view-in-github",
        "colab_type": "text"
      },
      "source": [
        "<a href=\"https://colab.research.google.com/github/Lior20/AI-Agents-Course/blob/main/tool_calling_agents.ipynb\" target=\"_parent\"><img src=\"https://colab.research.google.com/assets/colab-badge.svg\" alt=\"Open In Colab\"/></a>"
      ]
    },
    {
      "cell_type": "markdown",
      "metadata": {
        "id": "Pi9CF0391ARI"
      },
      "source": [
        "# Writing actions as code snippets or JSON blobs\n",
        "\n",
        "This notebook is part of the [Hugging Face Agents Course](https://www.hf.co/learn/agents-course), a free Course from beginner to expert, where you learn to build Agents.\n",
        "\n",
        "![Agents course share](https://huggingface.co/datasets/agents-course/course-images/resolve/main/en/communication/share.png)"
      ]
    },
    {
      "cell_type": "markdown",
      "metadata": {
        "id": "9gsYky7F1GzT"
      },
      "source": [
        "## Let's install the dependencies and login to our HF account to access the Inference API\n",
        "\n",
        "If you haven't installed `smolagents` yet, you can do so by running the following command:"
      ]
    },
    {
      "cell_type": "code",
      "execution_count": 1,
      "metadata": {
        "id": "MoFopncp0pnJ",
        "colab": {
          "base_uri": "https://localhost:8080/"
        },
        "outputId": "d6f34755-f6ab-49d2-e985-7d135f322cef"
      },
      "outputs": [
        {
          "output_type": "stream",
          "name": "stdout",
          "text": [
            "Requirement already satisfied: smolagents in /usr/local/lib/python3.11/dist-packages (1.20.0)\n",
            "Requirement already satisfied: huggingface-hub>=0.31.2 in /usr/local/lib/python3.11/dist-packages (from smolagents) (0.34.1)\n",
            "Requirement already satisfied: requests>=2.32.3 in /usr/local/lib/python3.11/dist-packages (from smolagents) (2.32.3)\n",
            "Requirement already satisfied: rich>=13.9.4 in /usr/local/lib/python3.11/dist-packages (from smolagents) (13.9.4)\n",
            "Requirement already satisfied: jinja2>=3.1.4 in /usr/local/lib/python3.11/dist-packages (from smolagents) (3.1.6)\n",
            "Requirement already satisfied: pillow>=10.0.1 in /usr/local/lib/python3.11/dist-packages (from smolagents) (11.3.0)\n",
            "Requirement already satisfied: python-dotenv in /usr/local/lib/python3.11/dist-packages (from smolagents) (1.1.1)\n",
            "Requirement already satisfied: filelock in /usr/local/lib/python3.11/dist-packages (from huggingface-hub>=0.31.2->smolagents) (3.18.0)\n",
            "Requirement already satisfied: fsspec>=2023.5.0 in /usr/local/lib/python3.11/dist-packages (from huggingface-hub>=0.31.2->smolagents) (2025.3.0)\n",
            "Requirement already satisfied: packaging>=20.9 in /usr/local/lib/python3.11/dist-packages (from huggingface-hub>=0.31.2->smolagents) (25.0)\n",
            "Requirement already satisfied: pyyaml>=5.1 in /usr/local/lib/python3.11/dist-packages (from huggingface-hub>=0.31.2->smolagents) (6.0.2)\n",
            "Requirement already satisfied: tqdm>=4.42.1 in /usr/local/lib/python3.11/dist-packages (from huggingface-hub>=0.31.2->smolagents) (4.67.1)\n",
            "Requirement already satisfied: typing-extensions>=3.7.4.3 in /usr/local/lib/python3.11/dist-packages (from huggingface-hub>=0.31.2->smolagents) (4.14.1)\n",
            "Requirement already satisfied: hf-xet<2.0.0,>=1.1.3 in /usr/local/lib/python3.11/dist-packages (from huggingface-hub>=0.31.2->smolagents) (1.1.5)\n",
            "Requirement already satisfied: MarkupSafe>=2.0 in /usr/local/lib/python3.11/dist-packages (from jinja2>=3.1.4->smolagents) (3.0.2)\n",
            "Requirement already satisfied: charset-normalizer<4,>=2 in /usr/local/lib/python3.11/dist-packages (from requests>=2.32.3->smolagents) (3.4.2)\n",
            "Requirement already satisfied: idna<4,>=2.5 in /usr/local/lib/python3.11/dist-packages (from requests>=2.32.3->smolagents) (3.10)\n",
            "Requirement already satisfied: urllib3<3,>=1.21.1 in /usr/local/lib/python3.11/dist-packages (from requests>=2.32.3->smolagents) (2.5.0)\n",
            "Requirement already satisfied: certifi>=2017.4.17 in /usr/local/lib/python3.11/dist-packages (from requests>=2.32.3->smolagents) (2025.7.14)\n",
            "Requirement already satisfied: markdown-it-py>=2.2.0 in /usr/local/lib/python3.11/dist-packages (from rich>=13.9.4->smolagents) (3.0.0)\n",
            "Requirement already satisfied: pygments<3.0.0,>=2.13.0 in /usr/local/lib/python3.11/dist-packages (from rich>=13.9.4->smolagents) (2.19.2)\n",
            "Requirement already satisfied: mdurl~=0.1 in /usr/local/lib/python3.11/dist-packages (from markdown-it-py>=2.2.0->rich>=13.9.4->smolagents) (0.1.2)\n"
          ]
        }
      ],
      "source": [
        "!pip install smolagents -U"
      ]
    },
    {
      "cell_type": "markdown",
      "metadata": {
        "id": "cH-4W1GhYL4T"
      },
      "source": [
        "Let's also login to the Hugging Face Hub to have access to the Inference API."
      ]
    },
    {
      "cell_type": "code",
      "execution_count": 2,
      "metadata": {
        "id": "TFTc-ry70y1f",
        "colab": {
          "base_uri": "https://localhost:8080/",
          "height": 17,
          "referenced_widgets": [
            "64964d3261dd44a7b837773670c7de3b",
            "38cb5ad741354f698d29957fdd1f7257",
            "d0ca65aac69345b490ca9588fd98cb5a",
            "f605a68f5d0f44088b2f45ea6053bb28",
            "c3d69f5e292e42d48f9a26c3bac90043",
            "a8224454db5f439e80cd472811d1ee20",
            "8318ae4a7b0a47c8be148e77cfc9440e",
            "66caa08ba9664acb8ee84e42574de7a1",
            "ca53421a3ef843d293da2920f0e271e9",
            "162bb4ecf3494b29ba8fa1310239b5e6",
            "cb95b56396a040aa8204d22cef544627",
            "16a70a61f4724b6bb204a0b26170873a",
            "8a74448b8e5e4981a27bd3f55fde74c0",
            "15931ff153e74247aaecdc5db057fe8b",
            "5fbb8eaa52f940f791f66ae00fc44089",
            "3a3f0b60bf2443bd8092877fedd2b9cb",
            "5ea8e908ae4d424283e447c895820fe3",
            "71c7498ce3fa4a90a490069f1e310e65",
            "71afc0d1c598417281677f16b81131d7",
            "7ac55df111fb497cbb2e9e16db5a2624"
          ]
        },
        "outputId": "364718a6-3fec-44b7-b656-9da4d2b30803"
      },
      "outputs": [
        {
          "output_type": "display_data",
          "data": {
            "text/plain": [
              "VBox(children=(HTML(value='<center> <img\\nsrc=https://huggingface.co/front/assets/huggingface_logo-noborder.sv…"
            ],
            "application/vnd.jupyter.widget-view+json": {
              "version_major": 2,
              "version_minor": 0,
              "model_id": "64964d3261dd44a7b837773670c7de3b"
            }
          },
          "metadata": {}
        }
      ],
      "source": [
        "from huggingface_hub import notebook_login\n",
        "\n",
        "notebook_login()"
      ]
    },
    {
      "cell_type": "markdown",
      "metadata": {
        "id": "ekKxaZrd1HlB"
      },
      "source": [
        "## Selecting a Playlist for the Party Using `smolagents` and a `ToolCallingAgent`\n",
        "\n",
        "Let's revisit the previous example where Alfred started party preparations, but this time we'll use a `ToolCallingAgent` to highlight the difference. We'll build an agent that can search the web using DuckDuckGo, just like in our Code Agent example. The only difference is the agent type - the framework handles everything else:"
      ]
    },
    {
      "cell_type": "code",
      "source": [
        "!pip install duckduckgo-search"
      ],
      "metadata": {
        "id": "gsm7w4mIre4u",
        "outputId": "da4fc795-267a-4aa5-f799-8b8c461c1893",
        "colab": {
          "base_uri": "https://localhost:8080/"
        }
      },
      "execution_count": 3,
      "outputs": [
        {
          "output_type": "stream",
          "name": "stdout",
          "text": [
            "Requirement already satisfied: duckduckgo-search in /usr/local/lib/python3.11/dist-packages (8.1.1)\n",
            "Requirement already satisfied: click>=8.1.8 in /usr/local/lib/python3.11/dist-packages (from duckduckgo-search) (8.2.1)\n",
            "Requirement already satisfied: primp>=0.15.0 in /usr/local/lib/python3.11/dist-packages (from duckduckgo-search) (0.15.0)\n",
            "Requirement already satisfied: lxml>=5.3.0 in /usr/local/lib/python3.11/dist-packages (from duckduckgo-search) (5.4.0)\n"
          ]
        }
      ]
    },
    {
      "cell_type": "code",
      "execution_count": 13,
      "metadata": {
        "colab": {
          "base_uri": "https://localhost:8080/",
          "height": 1000
        },
        "id": "6IInDOUN01sP",
        "outputId": "d373465b-f25a-48d9-9fee-6d57c47c7a09"
      },
      "outputs": [
        {
          "output_type": "stream",
          "name": "stderr",
          "text": [
            "/usr/local/lib/python3.11/dist-packages/smolagents/default_tools.py:135: RuntimeWarning: This package (`duckduckgo_search`) has been renamed to `ddgs`! Use `pip install ddgs` instead.\n",
            "  self.ddgs = DDGS(**kwargs)\n"
          ]
        },
        {
          "output_type": "display_data",
          "data": {
            "text/plain": [
              "\u001b[38;2;212;183;2m╭─\u001b[0m\u001b[38;2;212;183;2m───────────────────────────────────────────────────\u001b[0m\u001b[38;2;212;183;2m \u001b[0m\u001b[1;38;2;212;183;2mNew run\u001b[0m\u001b[38;2;212;183;2m \u001b[0m\u001b[38;2;212;183;2m───────────────────────────────────────────────────\u001b[0m\u001b[38;2;212;183;2m─╮\u001b[0m\n",
              "\u001b[38;2;212;183;2m│\u001b[0m                                                                                                                 \u001b[38;2;212;183;2m│\u001b[0m\n",
              "\u001b[38;2;212;183;2m│\u001b[0m \u001b[1mSearch for the best music recommendations for a party at the Wayne's mansion.\u001b[0m                                   \u001b[38;2;212;183;2m│\u001b[0m\n",
              "\u001b[38;2;212;183;2m│\u001b[0m                                                                                                                 \u001b[38;2;212;183;2m│\u001b[0m\n",
              "\u001b[38;2;212;183;2m╰─\u001b[0m\u001b[38;2;212;183;2m OpenAIServerModel - gemini-2.0-flash \u001b[0m\u001b[38;2;212;183;2m─────────────────────────────────────────────────────────────────────────\u001b[0m\u001b[38;2;212;183;2m─╯\u001b[0m\n"
            ],
            "text/html": [
              "<pre style=\"white-space:pre;overflow-x:auto;line-height:normal;font-family:Menlo,'DejaVu Sans Mono',consolas,'Courier New',monospace\"><span style=\"color: #d4b702; text-decoration-color: #d4b702\">╭──────────────────────────────────────────────────── </span><span style=\"color: #d4b702; text-decoration-color: #d4b702; font-weight: bold\">New run</span><span style=\"color: #d4b702; text-decoration-color: #d4b702\"> ────────────────────────────────────────────────────╮</span>\n",
              "<span style=\"color: #d4b702; text-decoration-color: #d4b702\">│</span>                                                                                                                 <span style=\"color: #d4b702; text-decoration-color: #d4b702\">│</span>\n",
              "<span style=\"color: #d4b702; text-decoration-color: #d4b702\">│</span> <span style=\"font-weight: bold\">Search for the best music recommendations for a party at the Wayne's mansion.</span>                                   <span style=\"color: #d4b702; text-decoration-color: #d4b702\">│</span>\n",
              "<span style=\"color: #d4b702; text-decoration-color: #d4b702\">│</span>                                                                                                                 <span style=\"color: #d4b702; text-decoration-color: #d4b702\">│</span>\n",
              "<span style=\"color: #d4b702; text-decoration-color: #d4b702\">╰─ OpenAIServerModel - gemini-2.0-flash ──────────────────────────────────────────────────────────────────────────╯</span>\n",
              "</pre>\n"
            ]
          },
          "metadata": {}
        },
        {
          "output_type": "display_data",
          "data": {
            "text/plain": [
              "\u001b[38;2;212;183;2m━━━━━━━━━━━━━━━━━━━━━━━━━━━━━━━━━━━━━━━━━━━━━━━━━━━━━ \u001b[0m\u001b[1mStep \u001b[0m\u001b[1;36m1\u001b[0m\u001b[38;2;212;183;2m ━━━━━━━━━━━━━━━━━━━━━━━━━━━━━━━━━━━━━━━━━━━━━━━━━━━━━━\u001b[0m\n"
            ],
            "text/html": [
              "<pre style=\"white-space:pre;overflow-x:auto;line-height:normal;font-family:Menlo,'DejaVu Sans Mono',consolas,'Courier New',monospace\"><span style=\"color: #d4b702; text-decoration-color: #d4b702\">━━━━━━━━━━━━━━━━━━━━━━━━━━━━━━━━━━━━━━━━━━━━━━━━━━━━━ </span><span style=\"font-weight: bold\">Step </span><span style=\"color: #008080; text-decoration-color: #008080; font-weight: bold\">1</span><span style=\"color: #d4b702; text-decoration-color: #d4b702\"> ━━━━━━━━━━━━━━━━━━━━━━━━━━━━━━━━━━━━━━━━━━━━━━━━━━━━━━</span>\n",
              "</pre>\n"
            ]
          },
          "metadata": {}
        },
        {
          "output_type": "display_data",
          "data": {
            "text/plain": [
              "╭─────────────────────────────────────────────────────────────────────────────────────────────────────────────────╮\n",
              "│ Calling tool: 'web_search' with arguments: {'query': 'best party music recommendations for a mansion party'}    │\n",
              "╰─────────────────────────────────────────────────────────────────────────────────────────────────────────────────╯\n"
            ],
            "text/html": [
              "<pre style=\"white-space:pre;overflow-x:auto;line-height:normal;font-family:Menlo,'DejaVu Sans Mono',consolas,'Courier New',monospace\">╭─────────────────────────────────────────────────────────────────────────────────────────────────────────────────╮\n",
              "│ Calling tool: 'web_search' with arguments: {'query': 'best party music recommendations for a mansion party'}    │\n",
              "╰─────────────────────────────────────────────────────────────────────────────────────────────────────────────────╯\n",
              "</pre>\n"
            ]
          },
          "metadata": {}
        },
        {
          "output_type": "display_data",
          "data": {
            "text/plain": [
              "Observations: ## Search Results\n",
              "\n",
              "|Best Buy | Official Online Store | Shop Now & Save\u001b[1m]\u001b[0m\u001b[1m(\u001b[0m\u001b[4;94mhttps://www.bestbuy.com/\u001b[0m\u001b[4;94m)\u001b[0m\n",
              "Shop Best Buy for electronics, computers, appliances, cell phones, video games & more new tech. Store pickup & free\n",
              "\u001b[1;36m2\u001b[0m-day shipping on thousands of items.\n",
              "\n",
              "|BEST Definition & Meaning - Merriam-Webster\u001b[1m]\u001b[0m\u001b[1m(\u001b[0m\u001b[4;94mhttps://www.merriam-webster.com/dictionary/best\u001b[0m\u001b[4;94m)\u001b[0m\n",
              "superlative of good \u001b[1;36m1\u001b[0m : excelling all others the best student in the class \u001b[1;36m2\u001b[0m : most productive of good : offering \n",
              "or producing the greatest advantage, utility, or satisfaction\n",
              "\n",
              "|BEST Synonyms: \u001b[1;36m179\u001b[0m Similar and Opposite Words - Merriam-Webster\u001b[1m]\u001b[0m\u001b[1m(\u001b[0m\u001b[4;94mhttps://www.merriam-webster.com/thesaurus/best\u001b[0m\u001b[4;94m)\u001b[0m\n",
              "Synonyms for BEST: attire, costume, bravery, full dress, finery, best bib and tucker, gayety, glad rags; Antonyms \n",
              "of BEST: tatters, disarray, dishabille, masses, millions, multitude, herd, commoners\n",
              "\n",
              "|best - Wiktionary, the free dictionary\u001b[1m]\u001b[0m\u001b[1m(\u001b[0m\u001b[4;94mhttps://en.m.wiktionary.org/wiki/best\u001b[0m\u001b[4;94m)\u001b[0m\n",
              "Jun \u001b[1;36m20\u001b[0m, \u001b[1;36m2025\u001b[0m · Although it is sometimes considered an adverb, best is virtually synonymous with should in \u001b[32m\" We best\u001b[0m\n",
              "\u001b[32mbe going, \"\u001b[0m and ought to in \u001b[32m\" We best go. \"\u001b[0m Should and ought are auxiliary …\n",
              "\n",
              "|Top-Rated Products at Best \n",
              "Buy\u001b[1m]\u001b[0m\u001b[1m(\u001b[0m\u001b[4;94mhttps://www.bestbuy.com/site/misc/top-rated-products/pcmcat140900050011.c?\u001b[0m\u001b[4;94mid\u001b[0m\u001b[4;94m=\u001b[0m\u001b[4;94mpcmcat140900050011\u001b[0m\u001b[4;94m)\u001b[0m\n",
              "Best Buy showcases the products customers have given top ratings. Explore top-rated tech and product reviews.\n",
              "\n",
              "|Best Buy and IKEA U.S. partner to pilot new kitchen and storage \n",
              "\u001b[33m...\u001b[0m\u001b[1m]\u001b[0m\u001b[1m(\u001b[0m\u001b[4;94mhttps://corporate.bestbuy.com/2025/best-buy-ikea-partner/\u001b[0m\u001b[4;94m)\u001b[0m\n",
              "\u001b[1;36m3\u001b[0m days ago · Best Buy and IKEA U.S. have partnered to pilot new in-store planning and shopping experiences that \n",
              "combine the latest and greatest major appliances from Best Buy with the well …\n",
              "\n",
              "|Best National Parks In The U.S. \u001b[1;36m2025\u001b[0m - \n",
              "Forbes\u001b[1m]\u001b[0m\u001b[1m(\u001b[0m\u001b[4;94mhttps://www.forbes.com/sites/forbes-personal-shopper/article/best-national-park-in-the-us/\u001b[0m\u001b[4;94m)\u001b[0m\n",
              "\u001b[1;36m4\u001b[0m days ago · From dramatic canyons to the glaciers of the Pacific West, here are the best national parks in the \n",
              "U.S. in \u001b[1;36m2025\u001b[0m.\n",
              "\n",
              "|THE \u001b[1;36m10\u001b[0m BEST Things to Do in Red Bank, SC - \u001b[1;36m2025\u001b[0m - Yelp\u001b[1m]\u001b[0m\u001b[1m(\u001b[0m\u001b[4;94mhttps://www.yelp.com/city/red-bank-sc-us\u001b[0m\u001b[4;94m)\u001b[0m\n",
              "Best of Red Bank: Find must-see tourist attractions and things to do in Red Bank, South Carolina. Yelp helps you \n",
              "discover popular restaurants, hotels, tours, shopping, and nightlife for your …\n",
              "\n",
              "|The Best \u001b[1;36m10\u001b[0m Seafood Restaurants near Red Bank, SC \n",
              "\u001b[1;36m29073\u001b[0m\u001b[1m]\u001b[0m\u001b[1m(\u001b[0m\u001b[4;94mhttps://www.yelp.com/search?\u001b[0m\u001b[4;94mcflt\u001b[0m\u001b[4;94m=\u001b[0m\u001b[4;94mseafood\u001b[0m\u001b[4;94m&\u001b[0m\u001b[4;94mfind_loc\u001b[0m\u001b[4;94m=\u001b[0m\u001b[4;94mRed\u001b[0m\u001b[4;94m+Bank,+SC+29073\u001b[0m\u001b[4;94m)\u001b[0m\n",
              "Best Seafood in Red Bank, SC \u001b[1;36m29073\u001b[0m - The Seafood Shack, Catch, Nacho Margarita, Great Wall Chinese Restaurant, \n",
              "Fresh Seafood Market & More, Captain D's, Bubba’s Pub N Grub, Long John …\n",
              "\n",
              "|BEST of Red Bank, SC \u001b[1;36m29073\u001b[0m New Restaurants - \n",
              "Yelp\u001b[1m]\u001b[0m\u001b[1m(\u001b[0m\u001b[4;94mhttps://www.yelp.com/search?\u001b[0m\u001b[4;94mfind_desc\u001b[0m\u001b[4;94m=\u001b[0m\u001b[4;94mNew\u001b[0m\u001b[4;94m+Restaurants&\u001b[0m\u001b[4;94mfind_loc\u001b[0m\u001b[4;94m=\u001b[0m\u001b[4;94mRed\u001b[0m\u001b[4;94m+Bank,+SC+29073\u001b[0m\u001b[4;94m)\u001b[0m\n",
              "Top \u001b[1;36m10\u001b[0m Best New Restaurants in Red Bank, SC \u001b[1;36m29073\u001b[0m - May \u001b[1;36m2025\u001b[0m - Yelp - Whataburger, Bibimbox Korean Kitchen & Wings,\n",
              "Cafe De Thyme, Cocky Rooster, DeMarco's Italian, Big Dave’s, Mystic …\n"
            ],
            "text/html": [
              "<pre style=\"white-space:pre;overflow-x:auto;line-height:normal;font-family:Menlo,'DejaVu Sans Mono',consolas,'Courier New',monospace\">Observations: ## Search Results\n",
              "\n",
              "|Best Buy | Official Online Store | Shop Now &amp; Save<span style=\"font-weight: bold\">](</span><span style=\"color: #0000ff; text-decoration-color: #0000ff; text-decoration: underline\">https://www.bestbuy.com/)</span>\n",
              "Shop Best Buy for electronics, computers, appliances, cell phones, video games &amp; more new tech. Store pickup &amp; free\n",
              "<span style=\"color: #008080; text-decoration-color: #008080; font-weight: bold\">2</span>-day shipping on thousands of items.\n",
              "\n",
              "|BEST Definition &amp; Meaning - Merriam-Webster<span style=\"font-weight: bold\">](</span><span style=\"color: #0000ff; text-decoration-color: #0000ff; text-decoration: underline\">https://www.merriam-webster.com/dictionary/best)</span>\n",
              "superlative of good <span style=\"color: #008080; text-decoration-color: #008080; font-weight: bold\">1</span> : excelling all others the best student in the class <span style=\"color: #008080; text-decoration-color: #008080; font-weight: bold\">2</span> : most productive of good : offering \n",
              "or producing the greatest advantage, utility, or satisfaction\n",
              "\n",
              "|BEST Synonyms: <span style=\"color: #008080; text-decoration-color: #008080; font-weight: bold\">179</span> Similar and Opposite Words - Merriam-Webster<span style=\"font-weight: bold\">](</span><span style=\"color: #0000ff; text-decoration-color: #0000ff; text-decoration: underline\">https://www.merriam-webster.com/thesaurus/best)</span>\n",
              "Synonyms for BEST: attire, costume, bravery, full dress, finery, best bib and tucker, gayety, glad rags; Antonyms \n",
              "of BEST: tatters, disarray, dishabille, masses, millions, multitude, herd, commoners\n",
              "\n",
              "|best - Wiktionary, the free dictionary<span style=\"font-weight: bold\">](</span><span style=\"color: #0000ff; text-decoration-color: #0000ff; text-decoration: underline\">https://en.m.wiktionary.org/wiki/best)</span>\n",
              "Jun <span style=\"color: #008080; text-decoration-color: #008080; font-weight: bold\">20</span>, <span style=\"color: #008080; text-decoration-color: #008080; font-weight: bold\">2025</span> · Although it is sometimes considered an adverb, best is virtually synonymous with should in <span style=\"color: #008000; text-decoration-color: #008000\">\" We best</span>\n",
              "<span style=\"color: #008000; text-decoration-color: #008000\">be going, \"</span> and ought to in <span style=\"color: #008000; text-decoration-color: #008000\">\" We best go. \"</span> Should and ought are auxiliary …\n",
              "\n",
              "|Top-Rated Products at Best \n",
              "Buy<span style=\"font-weight: bold\">](</span><span style=\"color: #0000ff; text-decoration-color: #0000ff; text-decoration: underline\">https://www.bestbuy.com/site/misc/top-rated-products/pcmcat140900050011.c?id=pcmcat140900050011)</span>\n",
              "Best Buy showcases the products customers have given top ratings. Explore top-rated tech and product reviews.\n",
              "\n",
              "|Best Buy and IKEA U.S. partner to pilot new kitchen and storage \n",
              "<span style=\"color: #808000; text-decoration-color: #808000\">...</span><span style=\"font-weight: bold\">](</span><span style=\"color: #0000ff; text-decoration-color: #0000ff; text-decoration: underline\">https://corporate.bestbuy.com/2025/best-buy-ikea-partner/)</span>\n",
              "<span style=\"color: #008080; text-decoration-color: #008080; font-weight: bold\">3</span> days ago · Best Buy and IKEA U.S. have partnered to pilot new in-store planning and shopping experiences that \n",
              "combine the latest and greatest major appliances from Best Buy with the well …\n",
              "\n",
              "|Best National Parks In The U.S. <span style=\"color: #008080; text-decoration-color: #008080; font-weight: bold\">2025</span> - \n",
              "Forbes<span style=\"font-weight: bold\">](</span><span style=\"color: #0000ff; text-decoration-color: #0000ff; text-decoration: underline\">https://www.forbes.com/sites/forbes-personal-shopper/article/best-national-park-in-the-us/)</span>\n",
              "<span style=\"color: #008080; text-decoration-color: #008080; font-weight: bold\">4</span> days ago · From dramatic canyons to the glaciers of the Pacific West, here are the best national parks in the \n",
              "U.S. in <span style=\"color: #008080; text-decoration-color: #008080; font-weight: bold\">2025</span>.\n",
              "\n",
              "|THE <span style=\"color: #008080; text-decoration-color: #008080; font-weight: bold\">10</span> BEST Things to Do in Red Bank, SC - <span style=\"color: #008080; text-decoration-color: #008080; font-weight: bold\">2025</span> - Yelp<span style=\"font-weight: bold\">](</span><span style=\"color: #0000ff; text-decoration-color: #0000ff; text-decoration: underline\">https://www.yelp.com/city/red-bank-sc-us)</span>\n",
              "Best of Red Bank: Find must-see tourist attractions and things to do in Red Bank, South Carolina. Yelp helps you \n",
              "discover popular restaurants, hotels, tours, shopping, and nightlife for your …\n",
              "\n",
              "|The Best <span style=\"color: #008080; text-decoration-color: #008080; font-weight: bold\">10</span> Seafood Restaurants near Red Bank, SC \n",
              "<span style=\"color: #008080; text-decoration-color: #008080; font-weight: bold\">29073</span><span style=\"font-weight: bold\">](</span><span style=\"color: #0000ff; text-decoration-color: #0000ff; text-decoration: underline\">https://www.yelp.com/search?cflt=seafood&amp;find_loc=Red+Bank,+SC+29073)</span>\n",
              "Best Seafood in Red Bank, SC <span style=\"color: #008080; text-decoration-color: #008080; font-weight: bold\">29073</span> - The Seafood Shack, Catch, Nacho Margarita, Great Wall Chinese Restaurant, \n",
              "Fresh Seafood Market &amp; More, Captain D's, Bubba’s Pub N Grub, Long John …\n",
              "\n",
              "|BEST of Red Bank, SC <span style=\"color: #008080; text-decoration-color: #008080; font-weight: bold\">29073</span> New Restaurants - \n",
              "Yelp<span style=\"font-weight: bold\">](</span><span style=\"color: #0000ff; text-decoration-color: #0000ff; text-decoration: underline\">https://www.yelp.com/search?find_desc=New+Restaurants&amp;find_loc=Red+Bank,+SC+29073)</span>\n",
              "Top <span style=\"color: #008080; text-decoration-color: #008080; font-weight: bold\">10</span> Best New Restaurants in Red Bank, SC <span style=\"color: #008080; text-decoration-color: #008080; font-weight: bold\">29073</span> - May <span style=\"color: #008080; text-decoration-color: #008080; font-weight: bold\">2025</span> - Yelp - Whataburger, Bibimbox Korean Kitchen &amp; Wings,\n",
              "Cafe De Thyme, Cocky Rooster, DeMarco's Italian, Big Dave’s, Mystic …\n",
              "</pre>\n"
            ]
          },
          "metadata": {}
        },
        {
          "output_type": "display_data",
          "data": {
            "text/plain": [
              "\u001b[2m[Step 1: Duration 1.53 seconds| Input tokens: 1,044 | Output tokens: 12]\u001b[0m\n"
            ],
            "text/html": [
              "<pre style=\"white-space:pre;overflow-x:auto;line-height:normal;font-family:Menlo,'DejaVu Sans Mono',consolas,'Courier New',monospace\"><span style=\"color: #7f7f7f; text-decoration-color: #7f7f7f\">[Step 1: Duration 1.53 seconds| Input tokens: 1,044 | Output tokens: 12]</span>\n",
              "</pre>\n"
            ]
          },
          "metadata": {}
        },
        {
          "output_type": "display_data",
          "data": {
            "text/plain": [
              "\u001b[38;2;212;183;2m━━━━━━━━━━━━━━━━━━━━━━━━━━━━━━━━━━━━━━━━━━━━━━━━━━━━━ \u001b[0m\u001b[1mStep \u001b[0m\u001b[1;36m2\u001b[0m\u001b[38;2;212;183;2m ━━━━━━━━━━━━━━━━━━━━━━━━━━━━━━━━━━━━━━━━━━━━━━━━━━━━━━\u001b[0m\n"
            ],
            "text/html": [
              "<pre style=\"white-space:pre;overflow-x:auto;line-height:normal;font-family:Menlo,'DejaVu Sans Mono',consolas,'Courier New',monospace\"><span style=\"color: #d4b702; text-decoration-color: #d4b702\">━━━━━━━━━━━━━━━━━━━━━━━━━━━━━━━━━━━━━━━━━━━━━━━━━━━━━ </span><span style=\"font-weight: bold\">Step </span><span style=\"color: #008080; text-decoration-color: #008080; font-weight: bold\">2</span><span style=\"color: #d4b702; text-decoration-color: #d4b702\"> ━━━━━━━━━━━━━━━━━━━━━━━━━━━━━━━━━━━━━━━━━━━━━━━━━━━━━━</span>\n",
              "</pre>\n"
            ]
          },
          "metadata": {}
        },
        {
          "output_type": "display_data",
          "data": {
            "text/plain": [
              "╭─────────────────────────────────────────────────────────────────────────────────────────────────────────────────╮\n",
              "│ Calling tool: 'web_search' with arguments: {'query': 'party playlist mansion genres'}                           │\n",
              "╰─────────────────────────────────────────────────────────────────────────────────────────────────────────────────╯\n"
            ],
            "text/html": [
              "<pre style=\"white-space:pre;overflow-x:auto;line-height:normal;font-family:Menlo,'DejaVu Sans Mono',consolas,'Courier New',monospace\">╭─────────────────────────────────────────────────────────────────────────────────────────────────────────────────╮\n",
              "│ Calling tool: 'web_search' with arguments: {'query': 'party playlist mansion genres'}                           │\n",
              "╰─────────────────────────────────────────────────────────────────────────────────────────────────────────────────╯\n",
              "</pre>\n"
            ]
          },
          "metadata": {}
        },
        {
          "output_type": "display_data",
          "data": {
            "text/plain": [
              "Observations: ## Search Results\n",
              "\n",
              "|Nintendo likely to become \"primary partner for third-party game \n",
              "\u001b[33m...\u001b[0m\u001b[1m]\u001b[0m\u001b[1m(\u001b[0m\u001b[4;94mhttps://www.neogaf.com/threads/nintendo-likely-to-become-primary-partner-for-third-party-game-publishers-over-\u001b[0m\n",
              "\u001b[4;94mnext-gen-switch-2-will-sell-100-million-by-2030-dfc-intelligence.1684132/\u001b[0m\u001b[4;94m)\u001b[0m\n",
              "May \u001b[1;36m15\u001b[0m, \u001b[1;36m2025\u001b[0m · Nintendo will likely be the \u001b[32m\"primary partner for third-party game publishers\"\u001b[0m on console in five \n",
              "years, an analyst firm has forecast, by which time Switch \u001b[1;36m2\u001b[0m will have hit 100m …\n",
              "\n",
              "|Game Dev - Platform - A look at the output of Sony Interactive \n",
              "\u001b[33m...\u001b[0m\u001b[1m]\u001b[0m\u001b[1m(\u001b[0m\u001b[4;94mhttps://www.neogaf.com/threads/a-look-at-the-output-of-sony-interactive-entertainment-for-2025.1678970/\u001b[0m\u001b[4;94m)\u001b[0m\n",
              "Dec \u001b[1;36m27\u001b[0m, \u001b[1;36m2024\u001b[0m · Developed by Velan Studios \u001b[1m(\u001b[0mpreviously known for Mario Kart Live: Home Circuit and Knockout City\u001b[1m)\u001b[0m, \n",
              "Midnight Murder Club is a party multiplayer PvP first-person shooter with a ton …\n",
              "\n",
              "|at/in the party | UsingEnglish.com ESL Forum\u001b[1m]\u001b[0m\u001b[1m(\u001b[0m\u001b[4;94mhttps://www.usingenglish.com/forum/threads/at-in-the-party.168470/\u001b[0m\u001b[4;94m)\u001b[0m\n",
              "Nov \u001b[1;36m26\u001b[0m, \u001b[1;36m2011\u001b[0m · Hi, I couldn't grasp the difference between \u001b[32m'at the party'\u001b[0m and \u001b[32m'in the party'\u001b[0m, could you please tell\n",
              "me? Thanks\u001b[33m...\u001b[0m I am in the party. I am at the party.\n",
              "\n",
              "|Chris Dring - I asked |Xbox\u001b[1m]\u001b[0m for clarification on the \n",
              "\"Game\u001b[1m]\u001b[0m\u001b[1m(\u001b[0m\u001b[4;94mhttps://www.neogaf.com/threads/chris-dring-i-asked-xbox-for-clarification-on-the-game-pass-is-profitable-cla\u001b[0m\n",
              "\u001b[4;94mim-and-was-told-no-first-party-costs-are-included.1686118/page-7\u001b[0m\u001b[4;94m)\u001b[0m\n",
              "Jul \u001b[1;36m7\u001b[0m, \u001b[1;36m2025\u001b[0m · Given that Xbox's first party sales have collapsed thanks to Game Pass, I would expect the strategy \n",
              "is to sell its titles on other platforms as a way to subsidise the losses of Game Pass …\n",
              "\n",
              "|Will Sony become third party publisher? | Page \u001b[1;36m2\u001b[0m | \n",
              "NeoGAF\u001b[1m]\u001b[0m\u001b[1m(\u001b[0m\u001b[4;94mhttps://www.neogaf.com/threads/will-sony-become-third-party-publisher.1684504/page-2\u001b[0m\u001b[4;94m)\u001b[0m\n",
              "May \u001b[1;36m26\u001b[0m, \u001b[1;36m2025\u001b[0m · But they're a third party publisher on PC, and they've been that for awhile now, they have \u001b[1;36m26\u001b[0m games \n",
              "there at this moment. Sure, but OP is literally asking: \"Does it still make sense for …\n",
              "\n",
              "|Will Sony become third party publisher? - \n",
              "NeoGAF\u001b[1m]\u001b[0m\u001b[1m(\u001b[0m\u001b[4;94mhttps://www.neogaf.com/threads/will-sony-become-third-party-publisher.1684504/\u001b[0m\u001b[4;94m)\u001b[0m\n",
              "May \u001b[1;36m26\u001b[0m, \u001b[1;36m2025\u001b[0m · Since some Sony first party games now cost \u001b[1;36m200\u001b[0m to \u001b[1;36m300\u001b[0m million to develop and most Live Service games\n",
              "from Sony have failed \u001b[1m(\u001b[0mExcept for Helldivers \u001b[1;36m2\u001b[0m\u001b[1m)\u001b[0m Does it still make sense for …\n",
              "\n",
              "|Drama - Seems like most third-party developers will not \u001b[33m...\u001b[0m - \n",
              "NeoGAF\u001b[1m]\u001b[0m\u001b[1m(\u001b[0m\u001b[4;94mhttps://www.neogaf.com/threads/seems-like-most-third-party-developers-will-not-support-switch-2.1684980/pag\u001b[0m\n",
              "\u001b[4;94me-2\u001b[0m\u001b[4;94m)\u001b[0m\n",
              "Jun \u001b[1;36m7\u001b[0m, \u001b[1;36m2025\u001b[0m · Third party support will probably drop when the next gen arrives and the SW2 cant compete with that \n",
              "power. However I think the lack of SW2 compatible games are probably …\n",
              "\n",
              "|Will Sony become third party publisher? | Page \u001b[1;36m3\u001b[0m | \n",
              "NeoGAF\u001b[1m]\u001b[0m\u001b[1m(\u001b[0m\u001b[4;94mhttps://www.neogaf.com/threads/will-sony-become-third-party-publisher.1684504/page-3\u001b[0m\u001b[4;94m)\u001b[0m\n",
              "May \u001b[1;36m26\u001b[0m, \u001b[1;36m2025\u001b[0m · Now when MS went third party: \u001b[32m\"Sony want to go third party, look at MLB and Marathon\"\u001b[0m - adamsapple \n",
              "On topic nobody considers PC games as third party, even day one let …\n",
              "\n",
              "|Mapping out Sony first party's Next Four years on \n",
              "PS5\u001b[1m]\u001b[0m\u001b[1m(\u001b[0m\u001b[4;94mhttps://www.neogaf.com/threads/mapping-out-sony-first-partys-next-four-years-on-ps5.1665566/\u001b[0m\u001b[4;94m)\u001b[0m\n",
              "Jan \u001b[1;36m8\u001b[0m, \u001b[1;36m2024\u001b[0m · Playing Spiderman \u001b[1;36m2\u001b[0m made me realize that I still love the Sony first party formula. I liked \n",
              "Starfield, Callisto, AW2, Avatar and FF16, but there is just something about Sony first party …\n",
              "\n",
              "|News - |Gematsu\u001b[1m]\u001b[0m Switch \u001b[1;36m2\u001b[0m game preorders in Japan reveal that all \n",
              "\u001b[33m...\u001b[0m\u001b[1m]\u001b[0m\u001b[1m(\u001b[0m\u001b[4;94mhttps://www.neogaf.com/threads/gematsu-switch-2-game-preorders-in-japan-reveal-that-all-physical-3rd-party-gam\u001b[0m\n",
              "\u001b[4;94mes-are-digital-game-keys-except-cyberpunk-2077.1683370/page-2\u001b[0m\u001b[4;94m)\u001b[0m\n",
              "Apr \u001b[1;36m23\u001b[0m, \u001b[1;36m2025\u001b[0m · not being able to backup your save data \u001b[1m(\u001b[0monly cloud\u001b[1m)\u001b[0m, sub par performance for 3rd party game, worse \n",
              "battery life compared to oled switch, expensive games, expensive online …\n"
            ],
            "text/html": [
              "<pre style=\"white-space:pre;overflow-x:auto;line-height:normal;font-family:Menlo,'DejaVu Sans Mono',consolas,'Courier New',monospace\">Observations: ## Search Results\n",
              "\n",
              "|Nintendo likely to become \"primary partner for third-party game \n",
              "<span style=\"color: #808000; text-decoration-color: #808000\">...</span><span style=\"font-weight: bold\">](</span><span style=\"color: #0000ff; text-decoration-color: #0000ff; text-decoration: underline\">https://www.neogaf.com/threads/nintendo-likely-to-become-primary-partner-for-third-party-game-publishers-over-</span>\n",
              "<span style=\"color: #0000ff; text-decoration-color: #0000ff; text-decoration: underline\">next-gen-switch-2-will-sell-100-million-by-2030-dfc-intelligence.1684132/)</span>\n",
              "May <span style=\"color: #008080; text-decoration-color: #008080; font-weight: bold\">15</span>, <span style=\"color: #008080; text-decoration-color: #008080; font-weight: bold\">2025</span> · Nintendo will likely be the <span style=\"color: #008000; text-decoration-color: #008000\">\"primary partner for third-party game publishers\"</span> on console in five \n",
              "years, an analyst firm has forecast, by which time Switch <span style=\"color: #008080; text-decoration-color: #008080; font-weight: bold\">2</span> will have hit 100m …\n",
              "\n",
              "|Game Dev - Platform - A look at the output of Sony Interactive \n",
              "<span style=\"color: #808000; text-decoration-color: #808000\">...</span><span style=\"font-weight: bold\">](</span><span style=\"color: #0000ff; text-decoration-color: #0000ff; text-decoration: underline\">https://www.neogaf.com/threads/a-look-at-the-output-of-sony-interactive-entertainment-for-2025.1678970/)</span>\n",
              "Dec <span style=\"color: #008080; text-decoration-color: #008080; font-weight: bold\">27</span>, <span style=\"color: #008080; text-decoration-color: #008080; font-weight: bold\">2024</span> · Developed by Velan Studios <span style=\"font-weight: bold\">(</span>previously known for Mario Kart Live: Home Circuit and Knockout City<span style=\"font-weight: bold\">)</span>, \n",
              "Midnight Murder Club is a party multiplayer PvP first-person shooter with a ton …\n",
              "\n",
              "|at/in the party | UsingEnglish.com ESL Forum<span style=\"font-weight: bold\">](</span><span style=\"color: #0000ff; text-decoration-color: #0000ff; text-decoration: underline\">https://www.usingenglish.com/forum/threads/at-in-the-party.168470/)</span>\n",
              "Nov <span style=\"color: #008080; text-decoration-color: #008080; font-weight: bold\">26</span>, <span style=\"color: #008080; text-decoration-color: #008080; font-weight: bold\">2011</span> · Hi, I couldn't grasp the difference between <span style=\"color: #008000; text-decoration-color: #008000\">'at the party'</span> and <span style=\"color: #008000; text-decoration-color: #008000\">'in the party'</span>, could you please tell\n",
              "me? Thanks<span style=\"color: #808000; text-decoration-color: #808000\">...</span> I am in the party. I am at the party.\n",
              "\n",
              "|Chris Dring - I asked |Xbox<span style=\"font-weight: bold\">]</span> for clarification on the \n",
              "\"Game<span style=\"font-weight: bold\">](</span><span style=\"color: #0000ff; text-decoration-color: #0000ff; text-decoration: underline\">https://www.neogaf.com/threads/chris-dring-i-asked-xbox-for-clarification-on-the-game-pass-is-profitable-cla</span>\n",
              "<span style=\"color: #0000ff; text-decoration-color: #0000ff; text-decoration: underline\">im-and-was-told-no-first-party-costs-are-included.1686118/page-7)</span>\n",
              "Jul <span style=\"color: #008080; text-decoration-color: #008080; font-weight: bold\">7</span>, <span style=\"color: #008080; text-decoration-color: #008080; font-weight: bold\">2025</span> · Given that Xbox's first party sales have collapsed thanks to Game Pass, I would expect the strategy \n",
              "is to sell its titles on other platforms as a way to subsidise the losses of Game Pass …\n",
              "\n",
              "|Will Sony become third party publisher? | Page <span style=\"color: #008080; text-decoration-color: #008080; font-weight: bold\">2</span> | \n",
              "NeoGAF<span style=\"font-weight: bold\">](</span><span style=\"color: #0000ff; text-decoration-color: #0000ff; text-decoration: underline\">https://www.neogaf.com/threads/will-sony-become-third-party-publisher.1684504/page-2)</span>\n",
              "May <span style=\"color: #008080; text-decoration-color: #008080; font-weight: bold\">26</span>, <span style=\"color: #008080; text-decoration-color: #008080; font-weight: bold\">2025</span> · But they're a third party publisher on PC, and they've been that for awhile now, they have <span style=\"color: #008080; text-decoration-color: #008080; font-weight: bold\">26</span> games \n",
              "there at this moment. Sure, but OP is literally asking: \"Does it still make sense for …\n",
              "\n",
              "|Will Sony become third party publisher? - \n",
              "NeoGAF<span style=\"font-weight: bold\">](</span><span style=\"color: #0000ff; text-decoration-color: #0000ff; text-decoration: underline\">https://www.neogaf.com/threads/will-sony-become-third-party-publisher.1684504/)</span>\n",
              "May <span style=\"color: #008080; text-decoration-color: #008080; font-weight: bold\">26</span>, <span style=\"color: #008080; text-decoration-color: #008080; font-weight: bold\">2025</span> · Since some Sony first party games now cost <span style=\"color: #008080; text-decoration-color: #008080; font-weight: bold\">200</span> to <span style=\"color: #008080; text-decoration-color: #008080; font-weight: bold\">300</span> million to develop and most Live Service games\n",
              "from Sony have failed <span style=\"font-weight: bold\">(</span>Except for Helldivers <span style=\"color: #008080; text-decoration-color: #008080; font-weight: bold\">2</span><span style=\"font-weight: bold\">)</span> Does it still make sense for …\n",
              "\n",
              "|Drama - Seems like most third-party developers will not <span style=\"color: #808000; text-decoration-color: #808000\">...</span> - \n",
              "NeoGAF<span style=\"font-weight: bold\">](</span><span style=\"color: #0000ff; text-decoration-color: #0000ff; text-decoration: underline\">https://www.neogaf.com/threads/seems-like-most-third-party-developers-will-not-support-switch-2.1684980/pag</span>\n",
              "<span style=\"color: #0000ff; text-decoration-color: #0000ff; text-decoration: underline\">e-2)</span>\n",
              "Jun <span style=\"color: #008080; text-decoration-color: #008080; font-weight: bold\">7</span>, <span style=\"color: #008080; text-decoration-color: #008080; font-weight: bold\">2025</span> · Third party support will probably drop when the next gen arrives and the SW2 cant compete with that \n",
              "power. However I think the lack of SW2 compatible games are probably …\n",
              "\n",
              "|Will Sony become third party publisher? | Page <span style=\"color: #008080; text-decoration-color: #008080; font-weight: bold\">3</span> | \n",
              "NeoGAF<span style=\"font-weight: bold\">](</span><span style=\"color: #0000ff; text-decoration-color: #0000ff; text-decoration: underline\">https://www.neogaf.com/threads/will-sony-become-third-party-publisher.1684504/page-3)</span>\n",
              "May <span style=\"color: #008080; text-decoration-color: #008080; font-weight: bold\">26</span>, <span style=\"color: #008080; text-decoration-color: #008080; font-weight: bold\">2025</span> · Now when MS went third party: <span style=\"color: #008000; text-decoration-color: #008000\">\"Sony want to go third party, look at MLB and Marathon\"</span> - adamsapple \n",
              "On topic nobody considers PC games as third party, even day one let …\n",
              "\n",
              "|Mapping out Sony first party's Next Four years on \n",
              "PS5<span style=\"font-weight: bold\">](</span><span style=\"color: #0000ff; text-decoration-color: #0000ff; text-decoration: underline\">https://www.neogaf.com/threads/mapping-out-sony-first-partys-next-four-years-on-ps5.1665566/)</span>\n",
              "Jan <span style=\"color: #008080; text-decoration-color: #008080; font-weight: bold\">8</span>, <span style=\"color: #008080; text-decoration-color: #008080; font-weight: bold\">2024</span> · Playing Spiderman <span style=\"color: #008080; text-decoration-color: #008080; font-weight: bold\">2</span> made me realize that I still love the Sony first party formula. I liked \n",
              "Starfield, Callisto, AW2, Avatar and FF16, but there is just something about Sony first party …\n",
              "\n",
              "|News - |Gematsu<span style=\"font-weight: bold\">]</span> Switch <span style=\"color: #008080; text-decoration-color: #008080; font-weight: bold\">2</span> game preorders in Japan reveal that all \n",
              "<span style=\"color: #808000; text-decoration-color: #808000\">...</span><span style=\"font-weight: bold\">](</span><span style=\"color: #0000ff; text-decoration-color: #0000ff; text-decoration: underline\">https://www.neogaf.com/threads/gematsu-switch-2-game-preorders-in-japan-reveal-that-all-physical-3rd-party-gam</span>\n",
              "<span style=\"color: #0000ff; text-decoration-color: #0000ff; text-decoration: underline\">es-are-digital-game-keys-except-cyberpunk-2077.1683370/page-2)</span>\n",
              "Apr <span style=\"color: #008080; text-decoration-color: #008080; font-weight: bold\">23</span>, <span style=\"color: #008080; text-decoration-color: #008080; font-weight: bold\">2025</span> · not being able to backup your save data <span style=\"font-weight: bold\">(</span>only cloud<span style=\"font-weight: bold\">)</span>, sub par performance for 3rd party game, worse \n",
              "battery life compared to oled switch, expensive games, expensive online …\n",
              "</pre>\n"
            ]
          },
          "metadata": {}
        },
        {
          "output_type": "display_data",
          "data": {
            "text/plain": [
              "\u001b[2m[Step 2: Duration 1.76 seconds| Input tokens: 3,004 | Output tokens: 20]\u001b[0m\n"
            ],
            "text/html": [
              "<pre style=\"white-space:pre;overflow-x:auto;line-height:normal;font-family:Menlo,'DejaVu Sans Mono',consolas,'Courier New',monospace\"><span style=\"color: #7f7f7f; text-decoration-color: #7f7f7f\">[Step 2: Duration 1.76 seconds| Input tokens: 3,004 | Output tokens: 20]</span>\n",
              "</pre>\n"
            ]
          },
          "metadata": {}
        },
        {
          "output_type": "display_data",
          "data": {
            "text/plain": [
              "\u001b[38;2;212;183;2m━━━━━━━━━━━━━━━━━━━━━━━━━━━━━━━━━━━━━━━━━━━━━━━━━━━━━ \u001b[0m\u001b[1mStep \u001b[0m\u001b[1;36m3\u001b[0m\u001b[38;2;212;183;2m ━━━━━━━━━━━━━━━━━━━━━━━━━━━━━━━━━━━━━━━━━━━━━━━━━━━━━━\u001b[0m\n"
            ],
            "text/html": [
              "<pre style=\"white-space:pre;overflow-x:auto;line-height:normal;font-family:Menlo,'DejaVu Sans Mono',consolas,'Courier New',monospace\"><span style=\"color: #d4b702; text-decoration-color: #d4b702\">━━━━━━━━━━━━━━━━━━━━━━━━━━━━━━━━━━━━━━━━━━━━━━━━━━━━━ </span><span style=\"font-weight: bold\">Step </span><span style=\"color: #008080; text-decoration-color: #008080; font-weight: bold\">3</span><span style=\"color: #d4b702; text-decoration-color: #d4b702\"> ━━━━━━━━━━━━━━━━━━━━━━━━━━━━━━━━━━━━━━━━━━━━━━━━━━━━━━</span>\n",
              "</pre>\n"
            ]
          },
          "metadata": {}
        },
        {
          "output_type": "display_data",
          "data": {
            "text/plain": [
              "╭─────────────────────────────────────────────────────────────────────────────────────────────────────────────────╮\n",
              "│ Calling tool: 'web_search' with arguments: {'query': 'mansion party playlist ideas'}                            │\n",
              "╰─────────────────────────────────────────────────────────────────────────────────────────────────────────────────╯\n"
            ],
            "text/html": [
              "<pre style=\"white-space:pre;overflow-x:auto;line-height:normal;font-family:Menlo,'DejaVu Sans Mono',consolas,'Courier New',monospace\">╭─────────────────────────────────────────────────────────────────────────────────────────────────────────────────╮\n",
              "│ Calling tool: 'web_search' with arguments: {'query': 'mansion party playlist ideas'}                            │\n",
              "╰─────────────────────────────────────────────────────────────────────────────────────────────────────────────────╯\n",
              "</pre>\n"
            ]
          },
          "metadata": {}
        },
        {
          "output_type": "display_data",
          "data": {
            "text/plain": [
              "Observations: ## Search Results\n",
              "\n",
              "|Mansion Global - Find Luxury Homes and Mansions for Sale\u001b[1m]\u001b[0m\u001b[1m(\u001b[0m\u001b[4;94mhttps://www.mansionglobal.com/\u001b[0m\u001b[4;94m)\u001b[0m\n",
              "Welcome to Mansion Global, a new international luxury real estate listings site, connecting affluent buyers with \n",
              "luxury listings, premium content and original market news and insights.\n",
              "\n",
              "|Mansion - Wikipedia\u001b[1m]\u001b[0m\u001b[1m(\u001b[0m\u001b[4;94mhttps://en.wikipedia.org/wiki/Mansion\u001b[0m\u001b[4;94m)\u001b[0m\n",
              "Today, the oldest inhabited mansions around the world usually began their existence as fortified houses in the \n",
              "Middle Ages. As social conditions slowly changed and stabilized fortifications were …\n",
              "\n",
              "|What Is a Mansion? Everything You May Want to \n",
              "Know\u001b[1m]\u001b[0m\u001b[1m(\u001b[0m\u001b[4;94mhttps://realestate.usnews.com/real-estate/articles/the-guide-to-mansions\u001b[0m\u001b[4;94m)\u001b[0m\n",
              "Apr \u001b[1;36m19\u001b[0m, \u001b[1;36m2023\u001b[0m · A mansion is commonly defined as a luxury home with at least \u001b[1;36m5\u001b[0m,\u001b[1;36m000\u001b[0m square feet of living space, \n",
              "though depending on the location, the qualifying size may be even larger at \u001b[1;36m8\u001b[0m,\u001b[1;36m000\u001b[0m …\n",
              "\n",
              "|What Is a Mansion? The Luxury Home Next Door Might Not \n",
              "Qualify\u001b[1m]\u001b[0m\u001b[1m(\u001b[0m\u001b[4;94mhttps://www.realtor.com/advice/buy/what-is-a-mansion/\u001b[0m\u001b[4;94m)\u001b[0m\n",
              "Oct \u001b[1;36m4\u001b[0m, \u001b[1;36m2022\u001b[0m · So what is a mansion anyway? Let's explore the mansion definition, plus what qualifies a property as \n",
              "a mansion.\n",
              "\n",
              "|Mansion: Architecture, History, Sustainability, Materials And \n",
              "…\u001b[1m]\u001b[0m\u001b[1m(\u001b[0m\u001b[4;94mhttps://www.architecturelab.net/building/mansion/\u001b[0m\u001b[4;94m)\u001b[0m\n",
              "Jun \u001b[1;36m7\u001b[0m, \u001b[1;36m2024\u001b[0m · What is a mansion? A mansion is a very large, impressive, and luxurious house. Mansions typically \n",
              "range from \u001b[1;36m5\u001b[0m,\u001b[1;36m000\u001b[0m to \u001b[1;36m20\u001b[0m,\u001b[1;36m000\u001b[0m square feet \u001b[1m(\u001b[0m\u001b[1;36m465\u001b[0m to \u001b[1;36m1\u001b[0m,\u001b[1;36m858\u001b[0m square meters\u001b[1m)\u001b[0m in size. …\n",
              "\n",
              "|Arlington MA Real Estate & Homes For Sale - Zillow\u001b[1m]\u001b[0m\u001b[1m(\u001b[0m\u001b[4;94mhttps://www.zillow.com/arlington-ma/\u001b[0m\u001b[4;94m)\u001b[0m\n",
              "View listing photos, review sales history, and use our detailed real estate filters to find the perfect place.\n",
              "\n",
              "|What is Considered a Mansion - upperclassmarket.com\u001b[1m]\u001b[0m\u001b[1m(\u001b[0m\u001b[4;94mhttps://upperclassmarket.com/what-is-considered-a-mansion/\u001b[0m\u001b[4;94m)\u001b[0m\n",
              "Feb \u001b[1;36m28\u001b[0m, \u001b[1;36m2025\u001b[0m · Explore what is considered a mansion and discover the defining characteristics that classify a \n",
              "property as a true mansion.\n",
              "\n",
              "|MANSION Definition & Meaning - Merriam-Webster\u001b[1m]\u001b[0m\u001b[1m(\u001b[0m\u001b[4;94mhttps://www.merriam-webster.com/dictionary/mansion\u001b[0m\u001b[4;94m)\u001b[0m\n",
              "The meaning of MANSION is a large imposing residence. How to use mansion in a sentence.\n",
              "\n",
              "|THE AMERICAN MAN$ION \u001b[1;36m2025\u001b[0m | Luxury Real Estate & Fine Interiors\u001b[1m]\u001b[0m\u001b[1m(\u001b[0m\u001b[4;94mhttps://www.theamericanmansion.com/\u001b[0m\u001b[4;94m)\u001b[0m\n",
              "\u001b[1;36m5\u001b[0m days ago · This French chateau-inspired mansion in Plano, TX was designed by the late Elby S. Martin, built in \n",
              "\u001b[1;36m1999\u001b[0m and situated on just under t\u001b[33m...\u001b[0m\n",
              "\n",
              "|The Crane Estate - The Crane Estate\u001b[1m]\u001b[0m\u001b[1m(\u001b[0m\u001b[4;94mhttps://www.craneestateevents.com/\u001b[0m\u001b[4;94m)\u001b[0m\n",
              "The \u001b[1;36m2\u001b[0m,\u001b[1;36m100\u001b[0m-acre Crane Estate is an unforgettable destination for your special event with its winding salt marshes, \n",
              "miles of barrier beach, and beautiful hilltop mansion. Chicago industrialist Richard …\n"
            ],
            "text/html": [
              "<pre style=\"white-space:pre;overflow-x:auto;line-height:normal;font-family:Menlo,'DejaVu Sans Mono',consolas,'Courier New',monospace\">Observations: ## Search Results\n",
              "\n",
              "|Mansion Global - Find Luxury Homes and Mansions for Sale<span style=\"font-weight: bold\">](</span><span style=\"color: #0000ff; text-decoration-color: #0000ff; text-decoration: underline\">https://www.mansionglobal.com/)</span>\n",
              "Welcome to Mansion Global, a new international luxury real estate listings site, connecting affluent buyers with \n",
              "luxury listings, premium content and original market news and insights.\n",
              "\n",
              "|Mansion - Wikipedia<span style=\"font-weight: bold\">](</span><span style=\"color: #0000ff; text-decoration-color: #0000ff; text-decoration: underline\">https://en.wikipedia.org/wiki/Mansion)</span>\n",
              "Today, the oldest inhabited mansions around the world usually began their existence as fortified houses in the \n",
              "Middle Ages. As social conditions slowly changed and stabilized fortifications were …\n",
              "\n",
              "|What Is a Mansion? Everything You May Want to \n",
              "Know<span style=\"font-weight: bold\">](</span><span style=\"color: #0000ff; text-decoration-color: #0000ff; text-decoration: underline\">https://realestate.usnews.com/real-estate/articles/the-guide-to-mansions)</span>\n",
              "Apr <span style=\"color: #008080; text-decoration-color: #008080; font-weight: bold\">19</span>, <span style=\"color: #008080; text-decoration-color: #008080; font-weight: bold\">2023</span> · A mansion is commonly defined as a luxury home with at least <span style=\"color: #008080; text-decoration-color: #008080; font-weight: bold\">5</span>,<span style=\"color: #008080; text-decoration-color: #008080; font-weight: bold\">000</span> square feet of living space, \n",
              "though depending on the location, the qualifying size may be even larger at <span style=\"color: #008080; text-decoration-color: #008080; font-weight: bold\">8</span>,<span style=\"color: #008080; text-decoration-color: #008080; font-weight: bold\">000</span> …\n",
              "\n",
              "|What Is a Mansion? The Luxury Home Next Door Might Not \n",
              "Qualify<span style=\"font-weight: bold\">](</span><span style=\"color: #0000ff; text-decoration-color: #0000ff; text-decoration: underline\">https://www.realtor.com/advice/buy/what-is-a-mansion/)</span>\n",
              "Oct <span style=\"color: #008080; text-decoration-color: #008080; font-weight: bold\">4</span>, <span style=\"color: #008080; text-decoration-color: #008080; font-weight: bold\">2022</span> · So what is a mansion anyway? Let's explore the mansion definition, plus what qualifies a property as \n",
              "a mansion.\n",
              "\n",
              "|Mansion: Architecture, History, Sustainability, Materials And \n",
              "…<span style=\"font-weight: bold\">](</span><span style=\"color: #0000ff; text-decoration-color: #0000ff; text-decoration: underline\">https://www.architecturelab.net/building/mansion/)</span>\n",
              "Jun <span style=\"color: #008080; text-decoration-color: #008080; font-weight: bold\">7</span>, <span style=\"color: #008080; text-decoration-color: #008080; font-weight: bold\">2024</span> · What is a mansion? A mansion is a very large, impressive, and luxurious house. Mansions typically \n",
              "range from <span style=\"color: #008080; text-decoration-color: #008080; font-weight: bold\">5</span>,<span style=\"color: #008080; text-decoration-color: #008080; font-weight: bold\">000</span> to <span style=\"color: #008080; text-decoration-color: #008080; font-weight: bold\">20</span>,<span style=\"color: #008080; text-decoration-color: #008080; font-weight: bold\">000</span> square feet <span style=\"font-weight: bold\">(</span><span style=\"color: #008080; text-decoration-color: #008080; font-weight: bold\">465</span> to <span style=\"color: #008080; text-decoration-color: #008080; font-weight: bold\">1</span>,<span style=\"color: #008080; text-decoration-color: #008080; font-weight: bold\">858</span> square meters<span style=\"font-weight: bold\">)</span> in size. …\n",
              "\n",
              "|Arlington MA Real Estate &amp; Homes For Sale - Zillow<span style=\"font-weight: bold\">](</span><span style=\"color: #0000ff; text-decoration-color: #0000ff; text-decoration: underline\">https://www.zillow.com/arlington-ma/)</span>\n",
              "View listing photos, review sales history, and use our detailed real estate filters to find the perfect place.\n",
              "\n",
              "|What is Considered a Mansion - upperclassmarket.com<span style=\"font-weight: bold\">](</span><span style=\"color: #0000ff; text-decoration-color: #0000ff; text-decoration: underline\">https://upperclassmarket.com/what-is-considered-a-mansion/)</span>\n",
              "Feb <span style=\"color: #008080; text-decoration-color: #008080; font-weight: bold\">28</span>, <span style=\"color: #008080; text-decoration-color: #008080; font-weight: bold\">2025</span> · Explore what is considered a mansion and discover the defining characteristics that classify a \n",
              "property as a true mansion.\n",
              "\n",
              "|MANSION Definition &amp; Meaning - Merriam-Webster<span style=\"font-weight: bold\">](</span><span style=\"color: #0000ff; text-decoration-color: #0000ff; text-decoration: underline\">https://www.merriam-webster.com/dictionary/mansion)</span>\n",
              "The meaning of MANSION is a large imposing residence. How to use mansion in a sentence.\n",
              "\n",
              "|THE AMERICAN MAN$ION <span style=\"color: #008080; text-decoration-color: #008080; font-weight: bold\">2025</span> | Luxury Real Estate &amp; Fine Interiors<span style=\"font-weight: bold\">](</span><span style=\"color: #0000ff; text-decoration-color: #0000ff; text-decoration: underline\">https://www.theamericanmansion.com/)</span>\n",
              "<span style=\"color: #008080; text-decoration-color: #008080; font-weight: bold\">5</span> days ago · This French chateau-inspired mansion in Plano, TX was designed by the late Elby S. Martin, built in \n",
              "<span style=\"color: #008080; text-decoration-color: #008080; font-weight: bold\">1999</span> and situated on just under t<span style=\"color: #808000; text-decoration-color: #808000\">...</span>\n",
              "\n",
              "|The Crane Estate - The Crane Estate<span style=\"font-weight: bold\">](</span><span style=\"color: #0000ff; text-decoration-color: #0000ff; text-decoration: underline\">https://www.craneestateevents.com/)</span>\n",
              "The <span style=\"color: #008080; text-decoration-color: #008080; font-weight: bold\">2</span>,<span style=\"color: #008080; text-decoration-color: #008080; font-weight: bold\">100</span>-acre Crane Estate is an unforgettable destination for your special event with its winding salt marshes, \n",
              "miles of barrier beach, and beautiful hilltop mansion. Chicago industrialist Richard …\n",
              "</pre>\n"
            ]
          },
          "metadata": {}
        },
        {
          "output_type": "display_data",
          "data": {
            "text/plain": [
              "\u001b[2m[Step 3: Duration 1.73 seconds| Input tokens: 6,209 | Output tokens: 29]\u001b[0m\n"
            ],
            "text/html": [
              "<pre style=\"white-space:pre;overflow-x:auto;line-height:normal;font-family:Menlo,'DejaVu Sans Mono',consolas,'Courier New',monospace\"><span style=\"color: #7f7f7f; text-decoration-color: #7f7f7f\">[Step 3: Duration 1.73 seconds| Input tokens: 6,209 | Output tokens: 29]</span>\n",
              "</pre>\n"
            ]
          },
          "metadata": {}
        },
        {
          "output_type": "display_data",
          "data": {
            "text/plain": [
              "\u001b[38;2;212;183;2m━━━━━━━━━━━━━━━━━━━━━━━━━━━━━━━━━━━━━━━━━━━━━━━━━━━━━ \u001b[0m\u001b[1mStep \u001b[0m\u001b[1;36m4\u001b[0m\u001b[38;2;212;183;2m ━━━━━━━━━━━━━━━━━━━━━━━━━━━━━━━━━━━━━━━━━━━━━━━━━━━━━━\u001b[0m\n"
            ],
            "text/html": [
              "<pre style=\"white-space:pre;overflow-x:auto;line-height:normal;font-family:Menlo,'DejaVu Sans Mono',consolas,'Courier New',monospace\"><span style=\"color: #d4b702; text-decoration-color: #d4b702\">━━━━━━━━━━━━━━━━━━━━━━━━━━━━━━━━━━━━━━━━━━━━━━━━━━━━━ </span><span style=\"font-weight: bold\">Step </span><span style=\"color: #008080; text-decoration-color: #008080; font-weight: bold\">4</span><span style=\"color: #d4b702; text-decoration-color: #d4b702\"> ━━━━━━━━━━━━━━━━━━━━━━━━━━━━━━━━━━━━━━━━━━━━━━━━━━━━━━</span>\n",
              "</pre>\n"
            ]
          },
          "metadata": {}
        },
        {
          "output_type": "display_data",
          "data": {
            "text/plain": [
              "╭─────────────────────────────────────────────────────────────────────────────────────────────────────────────────╮\n",
              "│ Calling tool: 'final_answer' with arguments: {'answer': \"To create the best music recommendations for a party   │\n",
              "│ at Wayne's mansion, consider these genres: Classic Rock, Funk, Soul, Disco, and current Pop hits. You can       │\n",
              "│ search for existing playlists on music streaming services that combine these genres or create your own          │\n",
              "│ customized playlist.\"}                                                                                          │\n",
              "╰─────────────────────────────────────────────────────────────────────────────────────────────────────────────────╯\n"
            ],
            "text/html": [
              "<pre style=\"white-space:pre;overflow-x:auto;line-height:normal;font-family:Menlo,'DejaVu Sans Mono',consolas,'Courier New',monospace\">╭─────────────────────────────────────────────────────────────────────────────────────────────────────────────────╮\n",
              "│ Calling tool: 'final_answer' with arguments: {'answer': \"To create the best music recommendations for a party   │\n",
              "│ at Wayne's mansion, consider these genres: Classic Rock, Funk, Soul, Disco, and current Pop hits. You can       │\n",
              "│ search for existing playlists on music streaming services that combine these genres or create your own          │\n",
              "│ customized playlist.\"}                                                                                          │\n",
              "╰─────────────────────────────────────────────────────────────────────────────────────────────────────────────────╯\n",
              "</pre>\n"
            ]
          },
          "metadata": {}
        },
        {
          "output_type": "display_data",
          "data": {
            "text/plain": [
              "Observations: To create the best music recommendations for a party at Wayne's mansion, consider these genres: \n",
              "Classic Rock, Funk, Soul, Disco, and current Pop hits. You can search for existing playlists on music streaming \n",
              "services that combine these genres or create your own customized playlist.\n"
            ],
            "text/html": [
              "<pre style=\"white-space:pre;overflow-x:auto;line-height:normal;font-family:Menlo,'DejaVu Sans Mono',consolas,'Courier New',monospace\">Observations: To create the best music recommendations for a party at Wayne's mansion, consider these genres: \n",
              "Classic Rock, Funk, Soul, Disco, and current Pop hits. You can search for existing playlists on music streaming \n",
              "services that combine these genres or create your own customized playlist.\n",
              "</pre>\n"
            ]
          },
          "metadata": {}
        },
        {
          "output_type": "display_data",
          "data": {
            "text/plain": [
              "\u001b[1;38;2;212;183;2mFinal answer: To create the best music recommendations for a party at Wayne's mansion, consider these genres: \u001b[0m\n",
              "\u001b[1;38;2;212;183;2mClassic Rock, Funk, Soul, Disco, and current Pop hits. You can search for existing playlists on music streaming \u001b[0m\n",
              "\u001b[1;38;2;212;183;2mservices that combine these genres or create your own customized playlist.\u001b[0m\n"
            ],
            "text/html": [
              "<pre style=\"white-space:pre;overflow-x:auto;line-height:normal;font-family:Menlo,'DejaVu Sans Mono',consolas,'Courier New',monospace\"><span style=\"color: #d4b702; text-decoration-color: #d4b702; font-weight: bold\">Final answer: To create the best music recommendations for a party at Wayne's mansion, consider these genres: </span>\n",
              "<span style=\"color: #d4b702; text-decoration-color: #d4b702; font-weight: bold\">Classic Rock, Funk, Soul, Disco, and current Pop hits. You can search for existing playlists on music streaming </span>\n",
              "<span style=\"color: #d4b702; text-decoration-color: #d4b702; font-weight: bold\">services that combine these genres or create your own customized playlist.</span>\n",
              "</pre>\n"
            ]
          },
          "metadata": {}
        },
        {
          "output_type": "display_data",
          "data": {
            "text/plain": [
              "\u001b[2m[Step 4: Duration 1.36 seconds| Input tokens: 10,156 | Output tokens: 87]\u001b[0m\n"
            ],
            "text/html": [
              "<pre style=\"white-space:pre;overflow-x:auto;line-height:normal;font-family:Menlo,'DejaVu Sans Mono',consolas,'Courier New',monospace\"><span style=\"color: #7f7f7f; text-decoration-color: #7f7f7f\">[Step 4: Duration 1.36 seconds| Input tokens: 10,156 | Output tokens: 87]</span>\n",
              "</pre>\n"
            ]
          },
          "metadata": {}
        },
        {
          "output_type": "execute_result",
          "data": {
            "text/plain": [
              "\"To create the best music recommendations for a party at Wayne's mansion, consider these genres: Classic Rock, Funk, Soul, Disco, and current Pop hits. You can search for existing playlists on music streaming services that combine these genres or create your own customized playlist.\""
            ],
            "application/vnd.google.colaboratory.intrinsic+json": {
              "type": "string"
            }
          },
          "metadata": {},
          "execution_count": 13
        }
      ],
      "source": [
        "from smolagents import ToolCallingAgent, DuckDuckGoSearchTool, InferenceClientModel\n",
        "from smolagents import OpenAIServerModel\n",
        "\n",
        "GEMINI_API_KEY =\n",
        "agent = ToolCallingAgent(tools=[DuckDuckGoSearchTool()], model=OpenAIServerModel(model_id=\"gemini-2.0-flash\",api_base=\"https://generativelanguage.googleapis.com/v1beta/openai/\", api_key=GEMINI_API_KEY,))\n",
        "\n",
        "agent.run(\"Search for the best music recommendations for a party at the Wayne's mansion.\")"
      ]
    },
    {
      "cell_type": "markdown",
      "metadata": {
        "id": "Cl19VWGRYXrr"
      },
      "source": [
        "\n",
        "When you examine the agent's trace, instead of seeing `Executing parsed code:`, you'll see something like:\n",
        "\n",
        "```text\n",
        "╭─────────────────────────────────────────────────────────────────────────────────────────────────────────────────╮\n",
        "│ Calling tool: 'web_search' with arguments: {'query': \"best music recommendations for a party at Wayne's         │\n",
        "│ mansion\"}                                                                                                       │\n",
        "╰─────────────────────────────────────────────────────────────────────────────────────────────────────────────────╯\n",
        "```  \n",
        "\n",
        "The agent generates a structured tool call that the system processes to produce the output, rather than directly executing code like a `CodeAgent`.\n",
        "\n",
        "Now that we understand both agent types, we can choose the right one for our needs. Let's continue exploring `smolagents` to make Alfred's party a success! 🎉"
      ]
    }
  ],
  "metadata": {
    "colab": {
      "provenance": [],
      "include_colab_link": true
    },
    "kernelspec": {
      "display_name": "Python 3",
      "name": "python3"
    },
    "language_info": {
      "name": "python"
    },
    "widgets": {
      "application/vnd.jupyter.widget-state+json": {
        "64964d3261dd44a7b837773670c7de3b": {
          "model_module": "@jupyter-widgets/controls",
          "model_name": "VBoxModel",
          "model_module_version": "1.5.0",
          "state": {
            "_dom_classes": [],
            "_model_module": "@jupyter-widgets/controls",
            "_model_module_version": "1.5.0",
            "_model_name": "VBoxModel",
            "_view_count": null,
            "_view_module": "@jupyter-widgets/controls",
            "_view_module_version": "1.5.0",
            "_view_name": "VBoxView",
            "box_style": "",
            "children": [],
            "layout": "IPY_MODEL_8318ae4a7b0a47c8be148e77cfc9440e"
          }
        },
        "38cb5ad741354f698d29957fdd1f7257": {
          "model_module": "@jupyter-widgets/controls",
          "model_name": "HTMLModel",
          "model_module_version": "1.5.0",
          "state": {
            "_dom_classes": [],
            "_model_module": "@jupyter-widgets/controls",
            "_model_module_version": "1.5.0",
            "_model_name": "HTMLModel",
            "_view_count": null,
            "_view_module": "@jupyter-widgets/controls",
            "_view_module_version": "1.5.0",
            "_view_name": "HTMLView",
            "description": "",
            "description_tooltip": null,
            "layout": "IPY_MODEL_66caa08ba9664acb8ee84e42574de7a1",
            "placeholder": "​",
            "style": "IPY_MODEL_ca53421a3ef843d293da2920f0e271e9",
            "value": "<center> <img\nsrc=https://huggingface.co/front/assets/huggingface_logo-noborder.svg\nalt='Hugging Face'> <br> Copy a token from <a\nhref=\"https://huggingface.co/settings/tokens\" target=\"_blank\">your Hugging Face\ntokens page</a> and paste it below. <br> Immediately click login after copying\nyour token or it might be stored in plain text in this notebook file. </center>"
          }
        },
        "d0ca65aac69345b490ca9588fd98cb5a": {
          "model_module": "@jupyter-widgets/controls",
          "model_name": "PasswordModel",
          "model_module_version": "1.5.0",
          "state": {
            "_dom_classes": [],
            "_model_module": "@jupyter-widgets/controls",
            "_model_module_version": "1.5.0",
            "_model_name": "PasswordModel",
            "_view_count": null,
            "_view_module": "@jupyter-widgets/controls",
            "_view_module_version": "1.5.0",
            "_view_name": "PasswordView",
            "continuous_update": true,
            "description": "Token:",
            "description_tooltip": null,
            "disabled": false,
            "layout": "IPY_MODEL_162bb4ecf3494b29ba8fa1310239b5e6",
            "placeholder": "​",
            "style": "IPY_MODEL_cb95b56396a040aa8204d22cef544627",
            "value": ""
          }
        },
        "f605a68f5d0f44088b2f45ea6053bb28": {
          "model_module": "@jupyter-widgets/controls",
          "model_name": "CheckboxModel",
          "model_module_version": "1.5.0",
          "state": {
            "_dom_classes": [],
            "_model_module": "@jupyter-widgets/controls",
            "_model_module_version": "1.5.0",
            "_model_name": "CheckboxModel",
            "_view_count": null,
            "_view_module": "@jupyter-widgets/controls",
            "_view_module_version": "1.5.0",
            "_view_name": "CheckboxView",
            "description": "Add token as git credential?",
            "description_tooltip": null,
            "disabled": false,
            "indent": true,
            "layout": "IPY_MODEL_16a70a61f4724b6bb204a0b26170873a",
            "style": "IPY_MODEL_8a74448b8e5e4981a27bd3f55fde74c0",
            "value": true
          }
        },
        "c3d69f5e292e42d48f9a26c3bac90043": {
          "model_module": "@jupyter-widgets/controls",
          "model_name": "ButtonModel",
          "model_module_version": "1.5.0",
          "state": {
            "_dom_classes": [],
            "_model_module": "@jupyter-widgets/controls",
            "_model_module_version": "1.5.0",
            "_model_name": "ButtonModel",
            "_view_count": null,
            "_view_module": "@jupyter-widgets/controls",
            "_view_module_version": "1.5.0",
            "_view_name": "ButtonView",
            "button_style": "",
            "description": "Login",
            "disabled": false,
            "icon": "",
            "layout": "IPY_MODEL_15931ff153e74247aaecdc5db057fe8b",
            "style": "IPY_MODEL_5fbb8eaa52f940f791f66ae00fc44089",
            "tooltip": ""
          }
        },
        "a8224454db5f439e80cd472811d1ee20": {
          "model_module": "@jupyter-widgets/controls",
          "model_name": "HTMLModel",
          "model_module_version": "1.5.0",
          "state": {
            "_dom_classes": [],
            "_model_module": "@jupyter-widgets/controls",
            "_model_module_version": "1.5.0",
            "_model_name": "HTMLModel",
            "_view_count": null,
            "_view_module": "@jupyter-widgets/controls",
            "_view_module_version": "1.5.0",
            "_view_name": "HTMLView",
            "description": "",
            "description_tooltip": null,
            "layout": "IPY_MODEL_3a3f0b60bf2443bd8092877fedd2b9cb",
            "placeholder": "​",
            "style": "IPY_MODEL_5ea8e908ae4d424283e447c895820fe3",
            "value": "\n<b>Pro Tip:</b> If you don't already have one, you can create a dedicated\n'notebooks' token with 'write' access, that you can then easily reuse for all\nnotebooks. </center>"
          }
        },
        "8318ae4a7b0a47c8be148e77cfc9440e": {
          "model_module": "@jupyter-widgets/base",
          "model_name": "LayoutModel",
          "model_module_version": "1.2.0",
          "state": {
            "_model_module": "@jupyter-widgets/base",
            "_model_module_version": "1.2.0",
            "_model_name": "LayoutModel",
            "_view_count": null,
            "_view_module": "@jupyter-widgets/base",
            "_view_module_version": "1.2.0",
            "_view_name": "LayoutView",
            "align_content": null,
            "align_items": "center",
            "align_self": null,
            "border": null,
            "bottom": null,
            "display": "flex",
            "flex": null,
            "flex_flow": "column",
            "grid_area": null,
            "grid_auto_columns": null,
            "grid_auto_flow": null,
            "grid_auto_rows": null,
            "grid_column": null,
            "grid_gap": null,
            "grid_row": null,
            "grid_template_areas": null,
            "grid_template_columns": null,
            "grid_template_rows": null,
            "height": null,
            "justify_content": null,
            "justify_items": null,
            "left": null,
            "margin": null,
            "max_height": null,
            "max_width": null,
            "min_height": null,
            "min_width": null,
            "object_fit": null,
            "object_position": null,
            "order": null,
            "overflow": null,
            "overflow_x": null,
            "overflow_y": null,
            "padding": null,
            "right": null,
            "top": null,
            "visibility": null,
            "width": "50%"
          }
        },
        "66caa08ba9664acb8ee84e42574de7a1": {
          "model_module": "@jupyter-widgets/base",
          "model_name": "LayoutModel",
          "model_module_version": "1.2.0",
          "state": {
            "_model_module": "@jupyter-widgets/base",
            "_model_module_version": "1.2.0",
            "_model_name": "LayoutModel",
            "_view_count": null,
            "_view_module": "@jupyter-widgets/base",
            "_view_module_version": "1.2.0",
            "_view_name": "LayoutView",
            "align_content": null,
            "align_items": null,
            "align_self": null,
            "border": null,
            "bottom": null,
            "display": null,
            "flex": null,
            "flex_flow": null,
            "grid_area": null,
            "grid_auto_columns": null,
            "grid_auto_flow": null,
            "grid_auto_rows": null,
            "grid_column": null,
            "grid_gap": null,
            "grid_row": null,
            "grid_template_areas": null,
            "grid_template_columns": null,
            "grid_template_rows": null,
            "height": null,
            "justify_content": null,
            "justify_items": null,
            "left": null,
            "margin": null,
            "max_height": null,
            "max_width": null,
            "min_height": null,
            "min_width": null,
            "object_fit": null,
            "object_position": null,
            "order": null,
            "overflow": null,
            "overflow_x": null,
            "overflow_y": null,
            "padding": null,
            "right": null,
            "top": null,
            "visibility": null,
            "width": null
          }
        },
        "ca53421a3ef843d293da2920f0e271e9": {
          "model_module": "@jupyter-widgets/controls",
          "model_name": "DescriptionStyleModel",
          "model_module_version": "1.5.0",
          "state": {
            "_model_module": "@jupyter-widgets/controls",
            "_model_module_version": "1.5.0",
            "_model_name": "DescriptionStyleModel",
            "_view_count": null,
            "_view_module": "@jupyter-widgets/base",
            "_view_module_version": "1.2.0",
            "_view_name": "StyleView",
            "description_width": ""
          }
        },
        "162bb4ecf3494b29ba8fa1310239b5e6": {
          "model_module": "@jupyter-widgets/base",
          "model_name": "LayoutModel",
          "model_module_version": "1.2.0",
          "state": {
            "_model_module": "@jupyter-widgets/base",
            "_model_module_version": "1.2.0",
            "_model_name": "LayoutModel",
            "_view_count": null,
            "_view_module": "@jupyter-widgets/base",
            "_view_module_version": "1.2.0",
            "_view_name": "LayoutView",
            "align_content": null,
            "align_items": null,
            "align_self": null,
            "border": null,
            "bottom": null,
            "display": null,
            "flex": null,
            "flex_flow": null,
            "grid_area": null,
            "grid_auto_columns": null,
            "grid_auto_flow": null,
            "grid_auto_rows": null,
            "grid_column": null,
            "grid_gap": null,
            "grid_row": null,
            "grid_template_areas": null,
            "grid_template_columns": null,
            "grid_template_rows": null,
            "height": null,
            "justify_content": null,
            "justify_items": null,
            "left": null,
            "margin": null,
            "max_height": null,
            "max_width": null,
            "min_height": null,
            "min_width": null,
            "object_fit": null,
            "object_position": null,
            "order": null,
            "overflow": null,
            "overflow_x": null,
            "overflow_y": null,
            "padding": null,
            "right": null,
            "top": null,
            "visibility": null,
            "width": null
          }
        },
        "cb95b56396a040aa8204d22cef544627": {
          "model_module": "@jupyter-widgets/controls",
          "model_name": "DescriptionStyleModel",
          "model_module_version": "1.5.0",
          "state": {
            "_model_module": "@jupyter-widgets/controls",
            "_model_module_version": "1.5.0",
            "_model_name": "DescriptionStyleModel",
            "_view_count": null,
            "_view_module": "@jupyter-widgets/base",
            "_view_module_version": "1.2.0",
            "_view_name": "StyleView",
            "description_width": ""
          }
        },
        "16a70a61f4724b6bb204a0b26170873a": {
          "model_module": "@jupyter-widgets/base",
          "model_name": "LayoutModel",
          "model_module_version": "1.2.0",
          "state": {
            "_model_module": "@jupyter-widgets/base",
            "_model_module_version": "1.2.0",
            "_model_name": "LayoutModel",
            "_view_count": null,
            "_view_module": "@jupyter-widgets/base",
            "_view_module_version": "1.2.0",
            "_view_name": "LayoutView",
            "align_content": null,
            "align_items": null,
            "align_self": null,
            "border": null,
            "bottom": null,
            "display": null,
            "flex": null,
            "flex_flow": null,
            "grid_area": null,
            "grid_auto_columns": null,
            "grid_auto_flow": null,
            "grid_auto_rows": null,
            "grid_column": null,
            "grid_gap": null,
            "grid_row": null,
            "grid_template_areas": null,
            "grid_template_columns": null,
            "grid_template_rows": null,
            "height": null,
            "justify_content": null,
            "justify_items": null,
            "left": null,
            "margin": null,
            "max_height": null,
            "max_width": null,
            "min_height": null,
            "min_width": null,
            "object_fit": null,
            "object_position": null,
            "order": null,
            "overflow": null,
            "overflow_x": null,
            "overflow_y": null,
            "padding": null,
            "right": null,
            "top": null,
            "visibility": null,
            "width": null
          }
        },
        "8a74448b8e5e4981a27bd3f55fde74c0": {
          "model_module": "@jupyter-widgets/controls",
          "model_name": "DescriptionStyleModel",
          "model_module_version": "1.5.0",
          "state": {
            "_model_module": "@jupyter-widgets/controls",
            "_model_module_version": "1.5.0",
            "_model_name": "DescriptionStyleModel",
            "_view_count": null,
            "_view_module": "@jupyter-widgets/base",
            "_view_module_version": "1.2.0",
            "_view_name": "StyleView",
            "description_width": ""
          }
        },
        "15931ff153e74247aaecdc5db057fe8b": {
          "model_module": "@jupyter-widgets/base",
          "model_name": "LayoutModel",
          "model_module_version": "1.2.0",
          "state": {
            "_model_module": "@jupyter-widgets/base",
            "_model_module_version": "1.2.0",
            "_model_name": "LayoutModel",
            "_view_count": null,
            "_view_module": "@jupyter-widgets/base",
            "_view_module_version": "1.2.0",
            "_view_name": "LayoutView",
            "align_content": null,
            "align_items": null,
            "align_self": null,
            "border": null,
            "bottom": null,
            "display": null,
            "flex": null,
            "flex_flow": null,
            "grid_area": null,
            "grid_auto_columns": null,
            "grid_auto_flow": null,
            "grid_auto_rows": null,
            "grid_column": null,
            "grid_gap": null,
            "grid_row": null,
            "grid_template_areas": null,
            "grid_template_columns": null,
            "grid_template_rows": null,
            "height": null,
            "justify_content": null,
            "justify_items": null,
            "left": null,
            "margin": null,
            "max_height": null,
            "max_width": null,
            "min_height": null,
            "min_width": null,
            "object_fit": null,
            "object_position": null,
            "order": null,
            "overflow": null,
            "overflow_x": null,
            "overflow_y": null,
            "padding": null,
            "right": null,
            "top": null,
            "visibility": null,
            "width": null
          }
        },
        "5fbb8eaa52f940f791f66ae00fc44089": {
          "model_module": "@jupyter-widgets/controls",
          "model_name": "ButtonStyleModel",
          "model_module_version": "1.5.0",
          "state": {
            "_model_module": "@jupyter-widgets/controls",
            "_model_module_version": "1.5.0",
            "_model_name": "ButtonStyleModel",
            "_view_count": null,
            "_view_module": "@jupyter-widgets/base",
            "_view_module_version": "1.2.0",
            "_view_name": "StyleView",
            "button_color": null,
            "font_weight": ""
          }
        },
        "3a3f0b60bf2443bd8092877fedd2b9cb": {
          "model_module": "@jupyter-widgets/base",
          "model_name": "LayoutModel",
          "model_module_version": "1.2.0",
          "state": {
            "_model_module": "@jupyter-widgets/base",
            "_model_module_version": "1.2.0",
            "_model_name": "LayoutModel",
            "_view_count": null,
            "_view_module": "@jupyter-widgets/base",
            "_view_module_version": "1.2.0",
            "_view_name": "LayoutView",
            "align_content": null,
            "align_items": null,
            "align_self": null,
            "border": null,
            "bottom": null,
            "display": null,
            "flex": null,
            "flex_flow": null,
            "grid_area": null,
            "grid_auto_columns": null,
            "grid_auto_flow": null,
            "grid_auto_rows": null,
            "grid_column": null,
            "grid_gap": null,
            "grid_row": null,
            "grid_template_areas": null,
            "grid_template_columns": null,
            "grid_template_rows": null,
            "height": null,
            "justify_content": null,
            "justify_items": null,
            "left": null,
            "margin": null,
            "max_height": null,
            "max_width": null,
            "min_height": null,
            "min_width": null,
            "object_fit": null,
            "object_position": null,
            "order": null,
            "overflow": null,
            "overflow_x": null,
            "overflow_y": null,
            "padding": null,
            "right": null,
            "top": null,
            "visibility": null,
            "width": null
          }
        },
        "5ea8e908ae4d424283e447c895820fe3": {
          "model_module": "@jupyter-widgets/controls",
          "model_name": "DescriptionStyleModel",
          "model_module_version": "1.5.0",
          "state": {
            "_model_module": "@jupyter-widgets/controls",
            "_model_module_version": "1.5.0",
            "_model_name": "DescriptionStyleModel",
            "_view_count": null,
            "_view_module": "@jupyter-widgets/base",
            "_view_module_version": "1.2.0",
            "_view_name": "StyleView",
            "description_width": ""
          }
        },
        "71c7498ce3fa4a90a490069f1e310e65": {
          "model_module": "@jupyter-widgets/controls",
          "model_name": "LabelModel",
          "model_module_version": "1.5.0",
          "state": {
            "_dom_classes": [],
            "_model_module": "@jupyter-widgets/controls",
            "_model_module_version": "1.5.0",
            "_model_name": "LabelModel",
            "_view_count": null,
            "_view_module": "@jupyter-widgets/controls",
            "_view_module_version": "1.5.0",
            "_view_name": "LabelView",
            "description": "",
            "description_tooltip": null,
            "layout": "IPY_MODEL_71afc0d1c598417281677f16b81131d7",
            "placeholder": "​",
            "style": "IPY_MODEL_7ac55df111fb497cbb2e9e16db5a2624",
            "value": "Connecting..."
          }
        },
        "71afc0d1c598417281677f16b81131d7": {
          "model_module": "@jupyter-widgets/base",
          "model_name": "LayoutModel",
          "model_module_version": "1.2.0",
          "state": {
            "_model_module": "@jupyter-widgets/base",
            "_model_module_version": "1.2.0",
            "_model_name": "LayoutModel",
            "_view_count": null,
            "_view_module": "@jupyter-widgets/base",
            "_view_module_version": "1.2.0",
            "_view_name": "LayoutView",
            "align_content": null,
            "align_items": null,
            "align_self": null,
            "border": null,
            "bottom": null,
            "display": null,
            "flex": null,
            "flex_flow": null,
            "grid_area": null,
            "grid_auto_columns": null,
            "grid_auto_flow": null,
            "grid_auto_rows": null,
            "grid_column": null,
            "grid_gap": null,
            "grid_row": null,
            "grid_template_areas": null,
            "grid_template_columns": null,
            "grid_template_rows": null,
            "height": null,
            "justify_content": null,
            "justify_items": null,
            "left": null,
            "margin": null,
            "max_height": null,
            "max_width": null,
            "min_height": null,
            "min_width": null,
            "object_fit": null,
            "object_position": null,
            "order": null,
            "overflow": null,
            "overflow_x": null,
            "overflow_y": null,
            "padding": null,
            "right": null,
            "top": null,
            "visibility": null,
            "width": null
          }
        },
        "7ac55df111fb497cbb2e9e16db5a2624": {
          "model_module": "@jupyter-widgets/controls",
          "model_name": "DescriptionStyleModel",
          "model_module_version": "1.5.0",
          "state": {
            "_model_module": "@jupyter-widgets/controls",
            "_model_module_version": "1.5.0",
            "_model_name": "DescriptionStyleModel",
            "_view_count": null,
            "_view_module": "@jupyter-widgets/base",
            "_view_module_version": "1.2.0",
            "_view_name": "StyleView",
            "description_width": ""
          }
        }
      }
    }
  },
  "nbformat": 4,
  "nbformat_minor": 0
}